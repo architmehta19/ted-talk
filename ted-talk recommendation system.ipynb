{
 "cells": [
  {
   "cell_type": "code",
   "execution_count": 6,
   "id": "3a4188a6",
   "metadata": {},
   "outputs": [],
   "source": [
    "import pandas as pd\n",
    "import matplotlib.pyplot as plt\n",
    "import seaborn as sns"
   ]
  },
  {
   "cell_type": "code",
   "execution_count": 7,
   "id": "0e419a1a",
   "metadata": {},
   "outputs": [],
   "source": [
    "# file path \n",
    "file_path = r'C:\\Users\\SHREE\\OneDrive\\Desktop\\7th sem project\\movie-recommender-system-tmdb-dataset-main\\ted_main.csv'  \n",
    "data = pd.read_csv(file_path)"
   ]
  },
  {
   "cell_type": "code",
   "execution_count": 8,
   "id": "8e7993b8",
   "metadata": {},
   "outputs": [
    {
     "name": "stdout",
     "output_type": "stream",
     "text": [
      "Dataset Shape: (2550, 12)\n"
     ]
    }
   ],
   "source": [
    "# no of rows & columns\n",
    "print(\"Dataset Shape:\", data.shape)"
   ]
  },
  {
   "cell_type": "code",
   "execution_count": 9,
   "id": "3578150c",
   "metadata": {},
   "outputs": [
    {
     "name": "stdout",
     "output_type": "stream",
     "text": [
      "0       0\n",
      "1       0\n",
      "2       0\n",
      "3       0\n",
      "4       0\n",
      "       ..\n",
      "2545    0\n",
      "2546    0\n",
      "2547    0\n",
      "2548    0\n",
      "2549    0\n",
      "Length: 2550, dtype: int64\n",
      "No rows with missing values.\n"
     ]
    }
   ],
   "source": [
    "# Check if there are any missing or null values in each row\n",
    "missing_values = data.isnull().sum(axis=1)\n",
    "\n",
    "# Display the rows with missing values\n",
    "missing_rows = data[missing_values > 0]\n",
    "\n",
    "# Show the number of missing values in each row\n",
    "print(missing_values)\n",
    "\n",
    "# Display rows with missing values, if any\n",
    "if not missing_rows.empty:\n",
    "    print(\"Rows with missing values:\")\n",
    "    print(missing_rows)\n",
    "else:\n",
    "    print(\"No rows with missing values.\")\n"
   ]
  },
  {
   "cell_type": "code",
   "execution_count": 10,
   "id": "378d1bd4",
   "metadata": {},
   "outputs": [
    {
     "name": "stdout",
     "output_type": "stream",
     "text": [
      "comments           int64\n",
      "description       object\n",
      "duration           int64\n",
      "event             object\n",
      "film_date          int64\n",
      "languages          int64\n",
      "speaker           object\n",
      "published_date     int64\n",
      "tags              object\n",
      "title             object\n",
      "url               object\n",
      "views              int64\n",
      "dtype: object\n"
     ]
    }
   ],
   "source": [
    "# Print all columns along with their data types\n",
    "print(data.dtypes)\n"
   ]
  },
  {
   "cell_type": "code",
   "execution_count": 11,
   "id": "f3a9325b",
   "metadata": {},
   "outputs": [],
   "source": [
    "#coverting date format\n",
    "data['film_date'] = pd.to_datetime(data['film_date'], unit='s')\n",
    "data['published_date'] = pd.to_datetime(data['published_date'], unit='s')"
   ]
  },
  {
   "cell_type": "code",
   "execution_count": 12,
   "id": "bfb7ff8d",
   "metadata": {},
   "outputs": [
    {
     "name": "stdout",
     "output_type": "stream",
     "text": [
      "Film Date Range:\n",
      " 1972-05-14 00:00:00 to 2017-08-27 00:00:00\n",
      "\n",
      "Published Date Range:\n",
      " 2006-06-27 00:11:00 to 2017-09-22 15:00:22\n"
     ]
    }
   ],
   "source": [
    "#finding the oldest & latest date of the talk\n",
    "\n",
    "print(\"Film Date Range:\\n\", data['film_date'].min(), \"to\", data['film_date'].max())\n",
    "print(\"\\nPublished Date Range:\\n\", data['published_date'].min(), \"to\", data['published_date'].max())"
   ]
  },
  {
   "cell_type": "code",
   "execution_count": 13,
   "id": "fba3107f",
   "metadata": {},
   "outputs": [
    {
     "name": "stdout",
     "output_type": "stream",
     "text": [
      "Oldest Video:\n",
      "Title: Do schools kill creativity?, Publish Date: 2006-06-27 00:11:00\n",
      "\n",
      "Newest Video:\n",
      "Title: How a video game might help us build better cities, Publish Date: 2017-09-22 15:00:22\n"
     ]
    }
   ],
   "source": [
    "oldest_video = data.loc[data['published_date'].idxmin()]\n",
    "\n",
    "# Find the latest (newest) video by publish date\n",
    "newest_video = data.loc[data['published_date'].idxmax()]\n",
    "\n",
    "# Print the results (title and publish date for both earliest and latest)\n",
    "print(\"Oldest Video:\")\n",
    "print(f\"Title: {oldest_video['title']}, Publish Date: {oldest_video['published_date']}\")\n",
    "\n",
    "print(\"\\nNewest Video:\")\n",
    "print(f\"Title: {newest_video['title']}, Publish Date: {newest_video['published_date']}\")\n"
   ]
  },
  {
   "cell_type": "code",
   "execution_count": 14,
   "id": "977572e8",
   "metadata": {},
   "outputs": [
    {
     "name": "stdout",
     "output_type": "stream",
     "text": [
      "Top 10 Most Viewed Talks:\n",
      "                                                   title            speaker  \\\n",
      "0                           Do schools kill creativity?       Ken Robinson   \n",
      "1346           Your body language may shape who you are          Amy Cuddy   \n",
      "677                    How great leaders inspire action        Simon Sinek   \n",
      "837                          The power of vulnerability        Brené Brown   \n",
      "452              10 things you didn't know about orgasm         Mary Roach   \n",
      "1776         How to speak so that people want to listen    Julian Treasure   \n",
      "201                                My stroke of insight  Jill Bolte Taylor   \n",
      "5                                  Why we do what we do       Tony Robbins   \n",
      "2114  This is what happens when you reply to spam email       James Veitch   \n",
      "1416  Looks aren't everything. Believe me, I'm a model.    Cameron Russell   \n",
      "\n",
      "         views  \n",
      "0     47227110  \n",
      "1346  43155405  \n",
      "677   34309432  \n",
      "837   31168150  \n",
      "452   22270883  \n",
      "1776  21594632  \n",
      "201   21190883  \n",
      "5     20685401  \n",
      "2114  20475972  \n",
      "1416  19787465  \n"
     ]
    }
   ],
   "source": [
    "# Top 10 Most Viewed Talks\n",
    "top_talks = data.nlargest(10, 'views')[['title','speaker', 'views']]\n",
    "print(\"Top 10 Most Viewed Talks:\\n\", top_talks)"
   ]
  },
  {
   "cell_type": "code",
   "execution_count": 15,
   "id": "bdda4579",
   "metadata": {},
   "outputs": [
    {
     "name": "stdout",
     "output_type": "stream",
     "text": [
      "Least 10 Viewed Talks:\n",
      "                                        title  \\\n",
      "594                         Stories of Haiti   \n",
      "1112  The debut of the British Paraorchestra   \n",
      "237                               \"Kounandi\"   \n",
      "776                   The early birdwatchers   \n",
      "1133        Let's bridge the digital divide!   \n",
      "1229               Beethoven the businessman   \n",
      "1141                    Deaf in the military   \n",
      "1079               Don't misrepresent Africa   \n",
      "1104    Change our culture, change our world   \n",
      "1178              Beautiful artificial limbs   \n",
      "\n",
      "                                        speaker   views  \n",
      "594                            Edwidge Danticat   50443  \n",
      "1112  Charles Hazlewood + British Paraorchestra   66668  \n",
      "237                                Rokia Traore   82488  \n",
      "776                                Tim Birkhead  112321  \n",
      "1133                             Aleph Molinari  115346  \n",
      "1229                                 José Bowen  117756  \n",
      "1141                                Keith Nolan  120274  \n",
      "1079                              Leslie Dodson  121186  \n",
      "1104                                Nate Garvis  125050  \n",
      "1178                               Scott Summit  132199  \n"
     ]
    }
   ],
   "source": [
    "# Least 10 viewed talks\n",
    "least_talks = data.nsmallest(10, 'views')[['title', 'speaker','views']]\n",
    "print(\"Least 10 Viewed Talks:\\n\", least_talks)"
   ]
  },
  {
   "cell_type": "code",
   "execution_count": 16,
   "id": "3289db7c",
   "metadata": {},
   "outputs": [
    {
     "name": "stdout",
     "output_type": "stream",
     "text": [
      "Top 10 longest Talks:\n",
      "                                                   title duration_hms\n",
      "640                Parrots, the universe and everything     01:27:36\n",
      "588              Really achieving your childhood dreams     01:16:27\n",
      "629                           Physics is fun to imagine     01:05:55\n",
      "2387  Nationalism vs. globalism: the new political d...     01:00:08\n",
      "594                                    Stories of Haiti     00:59:33\n",
      "600                          Growing up in the universe     00:57:55\n",
      "580                       What's the right thing to do?     00:54:56\n",
      "2421  Political common ground in a polarized United ...     00:47:33\n",
      "947            Authentic creativity vs. karaoke culture     00:46:01\n",
      "202                            My days as a young rebel     00:44:38\n",
      "\n",
      "\n",
      "\n",
      "Top 10 shortest Talks:\n",
      "                                                   title duration_hms\n",
      "722                     Don't build your home, grow it!     00:02:56\n",
      "593      Making maps to fight disaster, build economies     00:02:54\n",
      "1390               Forget multitasking, try monotasking     00:02:52\n",
      "86    Global warming's theme song, \"Manhattan in Jan...     00:02:43\n",
      "606                           Weird, or just different?     00:02:42\n",
      "264                         The wonder of Zulu wire art     00:02:33\n",
      "454                    A supercharged motorcycle design     00:02:23\n",
      "547                                The modern euphonium     00:02:21\n",
      "248                                            \"Clonie\"     00:02:20\n",
      "239                            The ancestor of language     00:02:15\n"
     ]
    }
   ],
   "source": [
    "# Top 10 longest & shortest Talks\n",
    "\n",
    "# Converting duration in seconds to minutes\n",
    "data['duration_minutes'] = (data['duration'] / 60).round(2)\n",
    "\n",
    "# Function to convert seconds into HH:MM:SS format\n",
    "def seconds_to_hms(seconds):\n",
    "    hours = seconds // 3600  # Get the number of hours\n",
    "    minutes = (seconds % 3600) // 60  # Get the number of minutes\n",
    "    seconds = seconds % 60  # Get the remaining seconds\n",
    "    return f\"{hours:02}:{minutes:02}:{seconds:02}\"  # Format as HH:MM:SS\n",
    "\n",
    "# Apply the function to the 'duration' column\n",
    "data['duration_hms'] = data['duration'].apply(seconds_to_hms)\n",
    "\n",
    "\n",
    "longest_talks = data.nlargest(10, 'duration_minutes')[['title', 'duration_hms']]\n",
    "print(\"Top 10 longest Talks:\\n\", longest_talks)\n",
    "\n",
    "\n",
    "shortest_talks = data.nsmallest(10, 'duration_minutes').sort_values(by='duration_hms', ascending=False)[['title', 'duration_hms']]\n",
    "print(\"\\n\\n\\nTop 10 shortest Talks:\\n\", shortest_talks)"
   ]
  },
  {
   "cell_type": "code",
   "execution_count": 17,
   "id": "849f504a",
   "metadata": {},
   "outputs": [
    {
     "data": {
      "image/png": "[encoded data removed]",
      "text/plain": [
       "<Figure size 864x432 with 1 Axes>"
      ]
     },
     "metadata": {
      "needs_background": "light"
     },
     "output_type": "display_data"
    }
   ],
   "source": [
    "#Interest in talks wrt year\n",
    "\n",
    "# Extract the year from the date\n",
    "data['year'] = data['published_date'].dt.year\n",
    "\n",
    "# Group by the 'year' and sum the 'views' for each year\n",
    "views_per_year = data.groupby('year')['views'].sum().reset_index()\n",
    "\n",
    "plt.figure(figsize=(12, 6))  \n",
    "plt.plot(views_per_year['year'], views_per_year['views'], marker='o', color='b', linestyle='-', linewidth=2)\n",
    "plt.title('Interest in talks wrt year \\n', fontsize=16)\n",
    "plt.xlabel('Year')\n",
    "plt.ylabel('Total Views')\n",
    "plt.show()\n",
    "\n",
    "\n",
    "#1e8 shows 1x10^8"
   ]
  },
  {
   "cell_type": "code",
   "execution_count": 18,
   "id": "b9d57f02",
   "metadata": {
    "scrolled": false
   },
   "outputs": [
    {
     "data": {
      "image/png": "[encoded data removed]",
      "text/plain": [
       "<Figure size 864x432 with 1 Axes>"
      ]
     },
     "metadata": {
      "needs_background": "light"
     },
     "output_type": "display_data"
    }
   ],
   "source": [
    "# Top 10 Speakers by Number of Talks\n",
    "top_speakers = data['speaker'].value_counts().head(10)\n",
    "plt.figure(figsize=(12, 6))\n",
    "sns.barplot(x=top_speakers.values, y=top_speakers.index, palette='viridis')\n",
    "plt.title('Top 10 Speakers by Number of Talks \\n', fontsize=16)\n",
    "plt.xlabel('Number of Talks')\n",
    "plt.ylabel('Speakers')\n",
    "plt.show()"
   ]
  },
  {
   "cell_type": "code",
   "execution_count": 19,
   "id": "d0841a59",
   "metadata": {},
   "outputs": [
    {
     "name": "stdout",
     "output_type": "stream",
     "text": [
      "Sample Tags:\n",
      " 0    children, creativity, culture, dance, educatio...\n",
      "1    alternative energy, cars, climate change, cult...\n",
      "2    computers, entertainment, interface design, me...\n",
      "3    MacArthur grant, activism, business, cities, e...\n",
      "4    Africa, Asia, Google, demo, economics, global ...\n",
      "Name: tags, dtype: object\n",
      "\n",
      "Sample Speaker:\n",
      " 0     Ken Robinson\n",
      "1          Al Gore\n",
      "2      David Pogue\n",
      "3    Majora Carter\n",
      "4     Hans Rosling\n",
      "Name: speaker, dtype: object\n",
      "\n",
      "Sample Title:\n",
      " 0        Do schools kill creativity?\n",
      "1        Averting the climate crisis\n",
      "2                   Simplicity sells\n",
      "3                Greening the ghetto\n",
      "4    The best stats you've ever seen\n",
      "Name: title, dtype: object\n"
     ]
    }
   ],
   "source": [
    "#samples\n",
    "# Clean and Prepare Dataset\n",
    "data['tags'] = data['tags'].fillna('[]').str.replace('[', '').str.replace(']', '').str.replace(\"'\", \"\")\n",
    "data['main_speaker'] = data['speaker'].fillna('')\n",
    "data['title'] = data['title'].fillna('')\n",
    "print(\"Sample Tags:\\n\", data['tags'].head())\n",
    "print(\"\\nSample Speaker:\\n\", data['speaker'].head())\n",
    "print(\"\\nSample Title:\\n\", data['title'].head())"
   ]
  },
  {
   "cell_type": "code",
   "execution_count": 20,
   "id": "a5d511cd",
   "metadata": {},
   "outputs": [],
   "source": [
    "# Vectorize the Tags Column\n",
    "from sklearn.feature_extraction.text import CountVectorizer\n",
    "\n",
    "vectorizer = CountVectorizer(tokenizer=lambda x: x.split(\", \"))\n",
    "tags_matrix = vectorizer.fit_transform(data['tags'])"
   ]
  },
  {
   "cell_type": "code",
   "execution_count": 21,
   "id": "2d16b17c",
   "metadata": {},
   "outputs": [],
   "source": [
    "# Compute Cosine Similarity\n",
    "from sklearn.metrics.pairwise import cosine_similarity\n",
    "\n",
    "similarity_matrix = cosine_similarity(tags_matrix)"
   ]
  },
  {
   "cell_type": "code",
   "execution_count": 22,
   "id": "d8c4b7ef",
   "metadata": {},
   "outputs": [],
   "source": [
    "# Compute Cosine Similarity for User Input\n",
    "def search_talks(user_input, data, tags_matrix, top_n=5):\n",
    "    \n",
    "     # Normalize user input\n",
    "    user_input = user_input.strip().lower()\n",
    "    \n",
    "    # Match by Title\n",
    "    title_matches = data[data['title'].str.lower() == user_input]\n",
    "\n",
    "    # Match by Speaker\n",
    "    speaker_matches = data[data['speaker'].str.lower().str.contains(user_input, na=False)]\n",
    "\n",
    "    # Match by Tags\n",
    "    user_tags_vector = vectorizer.transform([user_input])\n",
    "    tag_scores = cosine_similarity(user_tags_vector, tags_matrix).flatten()\n",
    "    tag_indices = tag_scores.argsort()[-top_n:][::-1]\n",
    "    tag_matches = data.iloc[tag_indices]\n",
    "    \n",
    "    combined_results = pd.concat([title_matches, speaker_matches, tag_matches]).drop_duplicates()\n",
    "    \n",
    "    # Debugging Prints\n",
    "    print(f\"Title Matches Found: {len(title_matches)}\")\n",
    "    print(f\"Speaker Matches Found: {len(speaker_matches)}\")\n",
    "    print(f\"Tag-Based Matches Found: {len(tag_matches)}\")\n",
    "    print(f\"Combined Results Before Limiting: {len(combined_results)}\")\n",
    "\n",
    "    # Ensure Only One Result If There Is an Exact Title Match\n",
    "    if len(title_matches) == 1:\n",
    "        return title_matches[['title', 'speaker', 'tags', 'duration_hms']]\n",
    "\n",
    "    # Limit to top 5 only\n",
    "    top_results = combined_results.head(1) if not title_matches.empty else combined_results.head(top_n)\n",
    "\n",
    "    return top_results[['title', 'speaker', 'tags', 'duration_hms']]\n",
    "    \n",
    "   \n",
    "   \n",
    "    \n",
    "  "
   ]
  },
  {
   "cell_type": "code",
   "execution_count": 25,
   "id": "735e4664",
   "metadata": {},
   "outputs": [
    {
     "name": "stdout",
     "output_type": "stream",
     "text": [
      "Enter a title, speaker name, or tags to search for TED Talks: education\n",
      "Title Matches Found: 0\n",
      "Speaker Matches Found: 0\n",
      "Tag-Based Matches Found: 5\n",
      "Combined Results Before Limiting: 5\n",
      "\n",
      "Search Results:\n",
      "                                                  title               speaker  \\\n",
      "1588  Why our IQ levels are higher than our grandpar...           James Flynn   \n",
      "1499                      \"High School Training Ground\"        Malcolm London   \n",
      "1495               Learn to read Chinese ... with ease!               ShaoLan   \n",
      "807                          Teaching design for change        Emily Pilloton   \n",
      "1804                        Why lunch ladies are heroes  Jarrett J. Krosoczka   \n",
      "\n",
      "                            tags duration_hms  \n",
      "1588          culture, education     00:18:40  \n",
      "1499           education, poetry     00:03:00  \n",
      "1495  china, education, language     00:06:10  \n",
      "807   design, education, poverty     00:16:43  \n",
      "1804  books, children, education     00:05:24  \n"
     ]
    }
   ],
   "source": [
    "# User Input\n",
    "user_input = input(\"Enter a title, speaker name, or tags to search for TED Talks: \")\n",
    "\n",
    "# Perform Search\n",
    "search_results = search_talks(user_input, data, tags_matrix, top_n=5)\n",
    "\n",
    "# Display Results\n",
    "if isinstance(search_results, str):\n",
    "    print(search_results)\n",
    "else:\n",
    "    print(\"\\nSearch Results:\")\n",
    "    print(search_results)\n",
    "    "
   ]
  }
 ],
 "metadata": {
  "kernelspec": {
   "display_name": "Python 3",
   "language": "python",
   "name": "python3"
  },
  "language_info": {
   "codemirror_mode": {
    "name": "ipython",
    "version": 3
   },
   "file_extension": ".py",
   "mimetype": "text/x-python",
   "name": "python",
   "nbconvert_exporter": "python",
   "pygments_lexer": "ipython3",
   "version": "3.8.8"
  }
 },
 "nbformat": 4,
 "nbformat_minor": 5
}
